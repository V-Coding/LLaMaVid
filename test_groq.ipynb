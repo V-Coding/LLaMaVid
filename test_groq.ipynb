{
 "cells": [
  {
   "cell_type": "code",
   "execution_count": 1,
   "metadata": {},
   "outputs": [],
   "source": [
    "from groq import Groq\n",
    "from dotenv import load_dotenv\n",
    "import os\n",
    "import json\n",
    "load_dotenv()\n",
    "GROQ_API_KEY = os.environ[\"GROQ_API_KEY\"]"
   ]
  },
  {
   "cell_type": "code",
   "execution_count": 2,
   "metadata": {},
   "outputs": [],
   "source": [
    "import base64\n",
    "def image_to_base64(image_path):\n",
    "    with open(image_path, \"rb\") as image_file:\n",
    "        return base64.b64encode(image_file.read()).decode(\"utf-8\")"
   ]
  },
  {
   "cell_type": "code",
   "execution_count": 4,
   "metadata": {},
   "outputs": [
    {
     "data": {
      "text/plain": [
       "ChatCompletion(id='chatcmpl-c3fd5be4-27c0-4161-827e-b103e1eb5782', choices=[Choice(finish_reason='stop', index=0, logprobs=None, message=ChatCompletionMessage(content='The image depicts a cartoon-style illustration of a llama standing on a rocky outcropping, set against an orange sky with a yellow sun. The llama is white and wears a blue helmet, a saddle, and a harness. It holds a flag in its back left leg that features the number **4** in black text.\\n\\nThe llama stands proudly on a beige-colored rock formation, with a mountain range visible in the background. The mountains are depicted in shades of blue and gray. In the bottom-right corner of the image, there is a watermark that reads \"Meta AI\" in small white text.\\n\\nOverall, the image presents a vibrant and dynamic scene, with bold lines and bright colors. The llama appears to be celebrating a victory or achievement, as indicated by the flag with the number **4**.', role='assistant', executed_tools=None, function_call=None, reasoning=None, tool_calls=None))], created=1744476999, model='meta-llama/llama-4-scout-17b-16e-instruct', object='chat.completion', system_fingerprint='fp_699032b16f', usage=CompletionUsage(completion_tokens=161, prompt_tokens=2492, total_tokens=2653, completion_time=0.32627692, prompt_time=0.07143971, queue_time=0.970601108, total_time=0.39771663), usage_breakdown=UsageBreakdown(models=None), x_groq={'id': 'req_01jrnex2hqec7bwppa64mt7hwd'})"
      ]
     },
     "execution_count": 4,
     "metadata": {},
     "output_type": "execute_result"
    }
   ],
   "source": [
    "MODEL = \"meta-llama/llama-4-scout-17b-16e-instruct\"\n",
    "client = Groq(api_key=GROQ_API_KEY)\n",
    "base64_image = image_to_base64(\"LLaMaVid/a_llama_dressed_as_a_professional_mountain.jpeg\")\n",
    "response = client.chat.completions.create(\n",
    "    messages=[\n",
    "        {\n",
    "            \"role\": \"user\",\n",
    "            \"content\": [\n",
    "                {\n",
    "                    \"type\": \"text\",\n",
    "                    \"text\": \"Describe what is on the image. Cite every number that you deem important\",\n",
    "                },\n",
    "                {\n",
    "                    \"type\": \"image_url\",\n",
    "                    \"image_url\": {\n",
    "                        \"url\": f\"data:image/jpeg;base64,{base64_image}\",\n",
    "                    },\n",
    "                },\n",
    "            ],\n",
    "        }\n",
    "    ],\n",
    "    model=MODEL,\n",
    ")\n",
    "response"
   ]
  }
 ],
 "metadata": {
  "language_info": {
   "name": "python"
  }
 },
 "nbformat": 4,
 "nbformat_minor": 2
}
