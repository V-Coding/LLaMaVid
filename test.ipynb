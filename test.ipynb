{
 "cells": [
  {
   "cell_type": "code",
   "execution_count": 1,
   "id": "921357cd",
   "metadata": {},
   "outputs": [
    {
     "data": {
      "text/plain": [
       "True"
      ]
     },
     "execution_count": 1,
     "metadata": {},
     "output_type": "execute_result"
    }
   ],
   "source": [
    "from llamaapi import LlamaAPI\n",
    "from dotenv import load_dotenv\n",
    "import os\n",
    "import json\n",
    "load_dotenv()"
   ]
  },
  {
   "cell_type": "code",
   "execution_count": 8,
   "id": "85281787",
   "metadata": {},
   "outputs": [],
   "source": [
    "LLAMA_API_KEY = os.environ[\"LLAMA_API_KEY\"]\n",
    "llama = LlamaAPI(LLAMA_API_KEY)"
   ]
  },
  {
   "cell_type": "code",
   "execution_count": null,
   "id": "a2bb14f6",
   "metadata": {},
   "outputs": [],
   "source": [
    "# Define your API request\n",
    "import base64\n",
    "\n",
    "llama_image = \"https://github.com/meta-llama/llama-cookbook/raw/main/src/docs/img/a_llama_dressed_as_a_professional_mountain.jpeg\"\n",
    "def image_to_base64(image_path):\n",
    "    with open(image_path, \"rb\") as image_file:\n",
    "        return base64.b64encode(image_file.read()).decode(\"utf-8\")\n",
    "     \n",
    "messages = [\n",
    "    {\"role\": \"system\", \"content\": \"You are a helpful assistant.\"},\n",
    "    {\n",
    "        \"role\": \"user\",\n",
    "        \"content\": [\n",
    "            {\"type\": \"text\", \"text\": \"Describe this image in two sentences.\"},\n",
    "            {\"type\": \"image_url\", \"image_url\": {\"url\": f\"data:image/jpeg;base64,{image_to_base64(\"a_llama_dressed_as_a_professional_mountain.jpeg\")}\"}},\n",
    "        ]\n",
    "    },\n",
    "]\n",
    "api_request_json = {\n",
    "    \"model\": \"llama4-scout\",\n",
    "    \"messages\": messages,\n",
    "    \"stream\": False,\n",
    "}\n",
    "\n",
    "response = llama.run(api_request_json)\n",
    "print(json.dumps(response.json(), indent=2))"
   ]
  },
  {
   "cell_type": "code",
   "execution_count": null,
   "id": "fb76a313",
   "metadata": {},
   "outputs": [],
   "source": [
    "from openai import OpenAI\n",
    "\n",
    "client = OpenAI(\n",
    "    api_key = LLAMA_API_KEY,\n",
    "    base_url = \"https://api.llmapi.com\",\n",
    "    # base_url = \"https://api.llama-api.com\"\n",
    ")\n",
    "\n",
    "response = client.chat.completions.create(\n",
    "    model=\"llama4-scout\",\n",
    "    messages=messages,\n",
    "    # messages=[\n",
    "    #     {\"role\": \"system\", \"content\": \"Assistant is a large language model trained by OpenAI.\"},\n",
    "    #     {\"role\": \"user\", \"content\": \"Who were the founders of Microsoft?\"}\n",
    "    # ],\n",
    ")\n",
    "\n",
    "#print(response)\n",
    "print(response.model_dump_json(indent=2))\n",
    "print(response.choices[0].message.content)"
   ]
  }
 ],
 "metadata": {
  "kernelspec": {
   "display_name": "venv",
   "language": "python",
   "name": "python3"
  },
  "language_info": {
   "codemirror_mode": {
    "name": "ipython",
    "version": 3
   },
   "file_extension": ".py",
   "mimetype": "text/x-python",
   "name": "python",
   "nbconvert_exporter": "python",
   "pygments_lexer": "ipython3",
   "version": "3.12.9"
  }
 },
 "nbformat": 4,
 "nbformat_minor": 5
}
